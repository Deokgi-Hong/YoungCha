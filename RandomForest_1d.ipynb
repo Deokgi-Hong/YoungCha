{
 "cells": [
  {
   "cell_type": "code",
   "execution_count": 1,
   "metadata": {},
   "outputs": [
    {
     "name": "stderr",
     "output_type": "stream",
     "text": [
      "c:\\study\\class2021s\\dsmldl\\mlpythonproject\\venv\\lib\\site-packages\\mpl_finance.py:16: DeprecationWarning: \n",
      "\n",
      "  =================================================================\n",
      "\n",
      "   WARNING: `mpl_finance` is deprecated:\n",
      "\n",
      "    Please use `mplfinance` instead (no hyphen, no underscore).\n",
      "\n",
      "    To install: `pip install --upgrade mplfinance` \n",
      "\n",
      "   For more information, see: https://pypi.org/project/mplfinance/\n",
      "\n",
      "  =================================================================\n",
      "\n",
      "  __warnings.warn('\\n\\n  ================================================================='+\n"
     ]
    }
   ],
   "source": [
    "import pandas as pd\n",
    "import matplotlib.pyplot as plt\n",
    "import matplotlib.dates as mdates\n",
    "from mpl_finance import candlestick_ohlc\n",
    "from datetime import datetime, timedelta\n",
    "import numpy as np\n",
    "from sklearn.preprocessing import MinMaxScaler"
   ]
  },
  {
   "cell_type": "code",
   "execution_count": 2,
   "metadata": {},
   "outputs": [],
   "source": [
    "class IndexMaker:\n",
    "    \"\"\"How to make indices manually\"\"\"\n",
    "    \"\"\"If one want to use module, possible to use TA-Lib for example\"\"\"\n",
    "    \"\"\"https://mrjbq7.github.io/ta-lib/\"\"\"\n",
    "    \n",
    "    def __init__(self, sample):\n",
    "        self.sample = sample.copy()\n",
    "    \n",
    "    def ohlc(self):\n",
    "        ohlc = self.sample[['Open', 'High', 'Low', 'Close']]\n",
    "        ohlc['number'] = ohlc.index.map(mdates.date2num)\n",
    "        return ohlc[['number', 'Open', 'High', 'Low', 'Close']]\n",
    "    \n",
    "    def moving_avg(self, days):\n",
    "        ma = self.sample[['Close']].copy()\n",
    "        ma['MA'+str(days)] = ma.Close.rolling(window=days).mean()\n",
    "        ma['number'] = ma.index.map(mdates.date2num)\n",
    "        return ma[['number', 'MA'+str(days)]]\n",
    "    \n",
    "    def exp_moving_avg(self, days):\n",
    "        ema = self.sample[['Close']].copy()\n",
    "        ema['EMA'+str(days)] = ema.Close.ewm(span=days).mean()\n",
    "        ema['number'] = ema.index.map(mdates.date2num)\n",
    "        return ema[['number', 'EMA'+str(days)]]\n",
    "    \n",
    "    def bollinger_band(self, days=20):\n",
    "        bb = self.sample[['Close']].copy()\n",
    "        bb['Center'] = bb.Close.rolling(window=days).mean()\n",
    "        bb['Upper'] = bb.Center + 2.*bb.Close.rolling(window=days).std()\n",
    "        bb['Lower'] = bb.Center - 2.*bb.Close.rolling(window=days).std()\n",
    "        bb['PercentB'] = (bb.Close - bb.Lower)/(bb.Upper - bb.Lower)\n",
    "        bb['number'] = bb.index.map(mdates.date2num)\n",
    "        return bb[['number', 'Center', 'Upper', 'Lower', 'PercentB']]\n",
    "    \n",
    "    def RSI(self, days):\n",
    "        rsi = self.sample[['Close']].copy()\n",
    "        rsi['U'] = 0.\n",
    "        rsi['D'] = 0.\n",
    "        for date in rsi.index:\n",
    "            if rsi.loc[date, 'Close'] > rsi.shift(1).loc[date, 'Close']:\n",
    "                rsi.loc[date, 'U'] = rsi.loc[date, 'Close'] - rsi.shift(1).loc[date, 'Close']\n",
    "                rsi.loc[date, 'D'] = 0.\n",
    "            else:\n",
    "                rsi.loc[date, 'D'] = rsi.shift(1).loc[date, 'Close'] - rsi.loc[date, 'Close']\n",
    "                rsi.loc[date, 'U'] = 0.\n",
    "        rsi['AU'] = rsi['U'].rolling(window=days).mean()\n",
    "        rsi['AD'] = rsi['D'].rolling(window=days).mean()\n",
    "        rsi['RSI'] = rsi['AU']/(rsi['AU']+rsi['AD'])\n",
    "        rsi['number'] = rsi.index.map(mdates.date2num)\n",
    "        return rsi[['number', 'AU', 'AD', 'RSI']]\n",
    "\n",
    "    def MFI(self, days):\n",
    "        mfi = self.sample[['High', 'Low', 'Close', 'Volume']].copy()\n",
    "        mfi['TP'] = (mfi['High'] + mfi['Low'] + mfi['Close'])/3\n",
    "        mfi['PMF'] = 0.\n",
    "        mfi['NMF'] = 0.\n",
    "        for date in mfi.index:\n",
    "            if mfi.loc[date, 'TP'] > mfi.shift(1).loc[date, 'TP']:\n",
    "                mfi.loc[date, 'PMF'] = mfi.loc[date, 'TP']*mfi.loc[date, 'Volume']\n",
    "                mfi.loc[date, 'NMF'] = 0.\n",
    "            else:\n",
    "                mfi.loc[date, 'NMF'] = mfi.loc[date, 'TP']*mfi.loc[date, 'Volume']\n",
    "                mfi.loc[date, 'PMF'] = 0.\n",
    "        mfi['MFI'] = mfi.PMF.rolling(window=days).sum()/(mfi.PMF.rolling(window=days).sum()+mfi.NMF.rolling(window=days).sum())\n",
    "        mfi['number'] = mfi.index.map(mdates.date2num)\n",
    "        return mfi[['number', 'TP', 'PMF', 'NMF', 'MFI']]\n",
    "    \n",
    "    def macd(self):\n",
    "        ema60 = self.exp_moving_avg(days=60)\n",
    "        ema130 = self.exp_moving_avg(days=130)\n",
    "        macd = self.sample[['Close']].copy()\n",
    "        macd['MACD'] = ema130['EMA130'] - ema60['EMA60']\n",
    "        macd['signal'] = macd['MACD'].ewm(span=45).mean()\n",
    "        macd['MACDHist'] = macd[\"MACD\"] - macd['signal']\n",
    "        macd['number'] = macd.index.map(mdates.date2num)\n",
    "        return macd[['number', 'MACD', 'signal', 'MACDHist']]\n",
    "\n",
    "    def oscillator(self, days=14):\n",
    "        oscillator = self.sample[['Open', 'High', 'Low', 'Close']].copy()\n",
    "        ndays_high = oscillator.High.rolling(window=days).max()\n",
    "        ndays_low = oscillator.Low.rolling(window=days).min()\n",
    "        oscillator['fast_k'] = (oscillator.Close - ndays_low)/(ndays_high - ndays_low)\n",
    "        oscillator['slow_d'] = oscillator.fast_k.rolling(window=3).mean()\n",
    "        oscillator['number'] = oscillator.index.map(mdates.date2num)\n",
    "        return oscillator[['number', 'fast_k', 'slow_d']]\n"
   ]
  },
  {
   "cell_type": "code",
   "execution_count": 5,
   "metadata": {
    "tags": []
   },
   "outputs": [],
   "source": [
    "# get sample\n",
    "df = pd.read_csv(\"./coin_Bitcoin.csv\")\n",
    "df = df[['Date', 'High', 'Low', 'Open', 'Close', 'Volume']]\n",
    "for idx in df.index:\n",
    "    if df.loc[idx, 'Volume'] == 0.:\n",
    "        df.loc[idx, 'Volume'] = np.nan\n",
    "    date_time = df.loc[idx, 'Date'].split(\" \")\n",
    "    date, time = date_time[0], date_time[1]\n",
    "    df.loc[idx, 'Date'] = datetime.strptime(date, '%Y-%m-%d').date()\n",
    "df = df.set_index('Date')\n",
    "df = df.dropna()"
   ]
  },
  {
   "cell_type": "code",
   "execution_count": 6,
   "metadata": {},
   "outputs": [],
   "source": [
    "# make indices\n",
    "# note that some indices may not exist for the first few days(or month)\n",
    "# because they are generated from the past\n",
    "# Recommend to use cushion data or use df.dropna()\n",
    "\n",
    "start_date = datetime.strptime('2017-01-01', '%Y-%m-%d').date()\n",
    "#end_date = datetime.strptime('2021-02-27', '%Y-%m-%d').date()\n",
    "maker = IndexMaker(df)\n",
    "ohlc = maker.ohlc().loc[start_date:, :]\n",
    "ma200 = maker.moving_avg(days=200).loc[start_date:, :]\n",
    "ema130 = maker.exp_moving_avg(days=130).loc[start_date:, :]\n",
    "bollinger20 = maker.bollinger_band(days=20).loc[start_date:, :]\n",
    "mfi14 = maker.MFI(days=14).loc[start_date:, :]\n",
    "rsi14 = maker.RSI(days=14).loc[start_date:, :]\n",
    "macd = maker.macd().loc[start_date:, :]\n",
    "oscillator = maker.oscillator().loc[start_date:, :]"
   ]
  },
  {
   "cell_type": "code",
   "execution_count": 7,
   "metadata": {},
   "outputs": [],
   "source": [
    "# target \n",
    "from datetime import timedelta\n",
    "second_date = start_date + timedelta(days=1)\n",
    "tommorow_Close = ohlc.Close[second_date:]\n",
    "dateindex = tommorow_Close.index- timedelta(days=1)\n",
    "tommorow_Close.index = dateindex\n",
    "tommorow_Open = ohlc.Open[second_date:]\n",
    "tommorow_Open.index = dateindex \n",
    "tommorow_IncRatio = tommorow_Close/tommorow_Open\n",
    "tommorow_Positive = (tommorow_Close>tommorow_Open).astype(int)"
   ]
  },
  {
   "cell_type": "markdown",
   "metadata": {},
   "source": [
    "### Feature & Target\n",
    "\n",
    "feature : o, h, l, c, Volume, MA200, EMA130, PercentB20, RSI14, MFI14, MACD, fast_k, slow_d <p>\n",
    "target : tommorow_Close, tommorow_positive "
   ]
  },
  {
   "cell_type": "code",
   "execution_count": 8,
   "metadata": {},
   "outputs": [],
   "source": [
    "start_date = datetime.strptime('2017-01-01', '%Y-%m-%d').date()\n",
    "end_date = datetime.strptime('2020-12-31', '%Y-%m-%d').date()\n",
    "eve_date = end_date - timedelta(days=1)\n",
    "Full_df = df\n",
    "Full_df['MA200'] = ma200.MA200\n",
    "Full_df['EMA130']=ema130.EMA130\n",
    "Full_df['PercentB20']=bollinger20.PercentB\n",
    "Full_df['RSI14']= rsi14.RSI\n",
    "Full_df['MFI14']= mfi14.MFI\n",
    "Full_df['MACD']= macd.MACD\n",
    "Full_df['fast_k'] = oscillator.fast_k\n",
    "Full_df['slow_d'] = oscillator.slow_d\n",
    "Full_df['Tommorow_Close']= tommorow_Close\n",
    "Full_df['Tommorow_IncRatio']= tommorow_IncRatio\n",
    "Full_df['Tommorow_Pos']= tommorow_Positive \n",
    "Full_df = Full_df[start_date: eve_date]"
   ]
  },
  {
   "cell_type": "code",
   "execution_count": 9,
   "metadata": {},
   "outputs": [
    {
     "data": {
      "text/html": [
       "<div>\n",
       "<style scoped>\n",
       "    .dataframe tbody tr th:only-of-type {\n",
       "        vertical-align: middle;\n",
       "    }\n",
       "\n",
       "    .dataframe tbody tr th {\n",
       "        vertical-align: top;\n",
       "    }\n",
       "\n",
       "    .dataframe thead th {\n",
       "        text-align: right;\n",
       "    }\n",
       "</style>\n",
       "<table border=\"1\" class=\"dataframe\">\n",
       "  <thead>\n",
       "    <tr style=\"text-align: right;\">\n",
       "      <th></th>\n",
       "      <th>High</th>\n",
       "      <th>Low</th>\n",
       "      <th>Open</th>\n",
       "      <th>Close</th>\n",
       "      <th>Volume</th>\n",
       "      <th>MA200</th>\n",
       "      <th>EMA130</th>\n",
       "      <th>PercentB20</th>\n",
       "      <th>RSI14</th>\n",
       "      <th>MFI14</th>\n",
       "      <th>MACD</th>\n",
       "      <th>fast_k</th>\n",
       "      <th>slow_d</th>\n",
       "      <th>Tommorow_Close</th>\n",
       "      <th>Tommorow_IncRatio</th>\n",
       "      <th>Tommorow_Pos</th>\n",
       "    </tr>\n",
       "    <tr>\n",
       "      <th>Date</th>\n",
       "      <th></th>\n",
       "      <th></th>\n",
       "      <th></th>\n",
       "      <th></th>\n",
       "      <th></th>\n",
       "      <th></th>\n",
       "      <th></th>\n",
       "      <th></th>\n",
       "      <th></th>\n",
       "      <th></th>\n",
       "      <th></th>\n",
       "      <th></th>\n",
       "      <th></th>\n",
       "      <th></th>\n",
       "      <th></th>\n",
       "      <th></th>\n",
       "    </tr>\n",
       "  </thead>\n",
       "  <tbody>\n",
       "    <tr>\n",
       "      <th>2017-01-01</th>\n",
       "      <td>1003.080017</td>\n",
       "      <td>958.698975</td>\n",
       "      <td>963.658020</td>\n",
       "      <td>998.325012</td>\n",
       "      <td>1.477750e+08</td>\n",
       "      <td>676.439377</td>\n",
       "      <td>726.854930</td>\n",
       "      <td>0.896990</td>\n",
       "      <td>0.859802</td>\n",
       "      <td>0.789506</td>\n",
       "      <td>-73.609344</td>\n",
       "      <td>0.977651</td>\n",
       "      <td>0.934168</td>\n",
       "      <td>1021.750000</td>\n",
       "      <td>1.023165</td>\n",
       "      <td>1.0</td>\n",
       "    </tr>\n",
       "    <tr>\n",
       "      <th>2017-01-02</th>\n",
       "      <td>1031.390015</td>\n",
       "      <td>996.702026</td>\n",
       "      <td>998.617004</td>\n",
       "      <td>1021.750000</td>\n",
       "      <td>2.221850e+08</td>\n",
       "      <td>677.716587</td>\n",
       "      <td>731.357145</td>\n",
       "      <td>0.913535</td>\n",
       "      <td>0.869408</td>\n",
       "      <td>0.805343</td>\n",
       "      <td>-76.362399</td>\n",
       "      <td>0.959815</td>\n",
       "      <td>0.951889</td>\n",
       "      <td>1043.839966</td>\n",
       "      <td>1.021770</td>\n",
       "      <td>1.0</td>\n",
       "    </tr>\n",
       "    <tr>\n",
       "      <th>2017-01-03</th>\n",
       "      <td>1044.079956</td>\n",
       "      <td>1021.599976</td>\n",
       "      <td>1021.599976</td>\n",
       "      <td>1043.839966</td>\n",
       "      <td>1.851680e+08</td>\n",
       "      <td>679.191241</td>\n",
       "      <td>736.127876</td>\n",
       "      <td>0.921943</td>\n",
       "      <td>0.875023</td>\n",
       "      <td>0.814751</td>\n",
       "      <td>-79.333322</td>\n",
       "      <td>0.999019</td>\n",
       "      <td>0.978828</td>\n",
       "      <td>1154.729980</td>\n",
       "      <td>1.105640</td>\n",
       "      <td>1.0</td>\n",
       "    </tr>\n",
       "    <tr>\n",
       "      <th>2017-01-04</th>\n",
       "      <td>1159.420044</td>\n",
       "      <td>1044.400024</td>\n",
       "      <td>1044.400024</td>\n",
       "      <td>1154.729980</td>\n",
       "      <td>3.449460e+08</td>\n",
       "      <td>681.183756</td>\n",
       "      <td>742.518748</td>\n",
       "      <td>1.098171</td>\n",
       "      <td>0.899147</td>\n",
       "      <td>0.833259</td>\n",
       "      <td>-84.066016</td>\n",
       "      <td>0.985581</td>\n",
       "      <td>0.981472</td>\n",
       "      <td>1013.380005</td>\n",
       "      <td>0.876073</td>\n",
       "      <td>0.0</td>\n",
       "    </tr>\n",
       "    <tr>\n",
       "      <th>2017-01-05</th>\n",
       "      <td>1191.099976</td>\n",
       "      <td>910.416992</td>\n",
       "      <td>1156.729980</td>\n",
       "      <td>1013.380005</td>\n",
       "      <td>5.101990e+08</td>\n",
       "      <td>682.431751</td>\n",
       "      <td>746.654034</td>\n",
       "      <td>0.722185</td>\n",
       "      <td>0.645207</td>\n",
       "      <td>0.673515</td>\n",
       "      <td>-86.055164</td>\n",
       "      <td>0.459285</td>\n",
       "      <td>0.814628</td>\n",
       "      <td>902.200989</td>\n",
       "      <td>0.889534</td>\n",
       "      <td>0.0</td>\n",
       "    </tr>\n",
       "    <tr>\n",
       "      <th>...</th>\n",
       "      <td>...</td>\n",
       "      <td>...</td>\n",
       "      <td>...</td>\n",
       "      <td>...</td>\n",
       "      <td>...</td>\n",
       "      <td>...</td>\n",
       "      <td>...</td>\n",
       "      <td>...</td>\n",
       "      <td>...</td>\n",
       "      <td>...</td>\n",
       "      <td>...</td>\n",
       "      <td>...</td>\n",
       "      <td>...</td>\n",
       "      <td>...</td>\n",
       "      <td>...</td>\n",
       "      <td>...</td>\n",
       "    </tr>\n",
       "    <tr>\n",
       "      <th>2020-12-26</th>\n",
       "      <td>26718.070893</td>\n",
       "      <td>24522.689482</td>\n",
       "      <td>24677.016056</td>\n",
       "      <td>26437.037509</td>\n",
       "      <td>4.833265e+10</td>\n",
       "      <td>12929.903141</td>\n",
       "      <td>15766.746562</td>\n",
       "      <td>0.976863</td>\n",
       "      <td>0.851761</td>\n",
       "      <td>0.920118</td>\n",
       "      <td>-2997.597949</td>\n",
       "      <td>0.964799</td>\n",
       "      <td>0.962039</td>\n",
       "      <td>26272.294567</td>\n",
       "      <td>0.993681</td>\n",
       "      <td>0.0</td>\n",
       "    </tr>\n",
       "    <tr>\n",
       "      <th>2020-12-27</th>\n",
       "      <td>28288.840022</td>\n",
       "      <td>25922.769765</td>\n",
       "      <td>26439.373289</td>\n",
       "      <td>26272.294567</td>\n",
       "      <td>6.647990e+10</td>\n",
       "      <td>13011.914142</td>\n",
       "      <td>15927.136608</td>\n",
       "      <td>0.903582</td>\n",
       "      <td>0.833914</td>\n",
       "      <td>0.927265</td>\n",
       "      <td>-3083.370200</td>\n",
       "      <td>0.782609</td>\n",
       "      <td>0.913536</td>\n",
       "      <td>27084.807886</td>\n",
       "      <td>1.030592</td>\n",
       "      <td>1.0</td>\n",
       "    </tr>\n",
       "    <tr>\n",
       "      <th>2020-12-28</th>\n",
       "      <td>27389.112064</td>\n",
       "      <td>26207.639931</td>\n",
       "      <td>26280.821415</td>\n",
       "      <td>27084.807886</td>\n",
       "      <td>4.905674e+10</td>\n",
       "      <td>13100.729275</td>\n",
       "      <td>16097.482734</td>\n",
       "      <td>0.919669</td>\n",
       "      <td>0.844247</td>\n",
       "      <td>0.931462</td>\n",
       "      <td>-3177.755257</td>\n",
       "      <td>0.869255</td>\n",
       "      <td>0.872221</td>\n",
       "      <td>27362.436557</td>\n",
       "      <td>1.010362</td>\n",
       "      <td>1.0</td>\n",
       "    </tr>\n",
       "    <tr>\n",
       "      <th>2020-12-29</th>\n",
       "      <td>27370.720084</td>\n",
       "      <td>25987.298075</td>\n",
       "      <td>27081.809729</td>\n",
       "      <td>27362.436557</td>\n",
       "      <td>4.526595e+10</td>\n",
       "      <td>13190.137239</td>\n",
       "      <td>16269.466762</td>\n",
       "      <td>0.894310</td>\n",
       "      <td>0.845700</td>\n",
       "      <td>0.934446</td>\n",
       "      <td>-3270.925280</td>\n",
       "      <td>0.896958</td>\n",
       "      <td>0.849607</td>\n",
       "      <td>28840.953420</td>\n",
       "      <td>1.054125</td>\n",
       "      <td>1.0</td>\n",
       "    </tr>\n",
       "    <tr>\n",
       "      <th>2020-12-30</th>\n",
       "      <td>28937.740004</td>\n",
       "      <td>27360.089709</td>\n",
       "      <td>27360.089709</td>\n",
       "      <td>28840.953420</td>\n",
       "      <td>5.128744e+10</td>\n",
       "      <td>13286.965619</td>\n",
       "      <td>16461.397856</td>\n",
       "      <td>0.955826</td>\n",
       "      <td>0.839918</td>\n",
       "      <td>0.936562</td>\n",
       "      <td>-3383.930625</td>\n",
       "      <td>0.987435</td>\n",
       "      <td>0.917883</td>\n",
       "      <td>29001.719822</td>\n",
       "      <td>1.005553</td>\n",
       "      <td>1.0</td>\n",
       "    </tr>\n",
       "  </tbody>\n",
       "</table>\n",
       "<p>1460 rows × 16 columns</p>\n",
       "</div>"
      ],
      "text/plain": [
       "                    High           Low          Open         Close  \\\n",
       "Date                                                                 \n",
       "2017-01-01   1003.080017    958.698975    963.658020    998.325012   \n",
       "2017-01-02   1031.390015    996.702026    998.617004   1021.750000   \n",
       "2017-01-03   1044.079956   1021.599976   1021.599976   1043.839966   \n",
       "2017-01-04   1159.420044   1044.400024   1044.400024   1154.729980   \n",
       "2017-01-05   1191.099976    910.416992   1156.729980   1013.380005   \n",
       "...                  ...           ...           ...           ...   \n",
       "2020-12-26  26718.070893  24522.689482  24677.016056  26437.037509   \n",
       "2020-12-27  28288.840022  25922.769765  26439.373289  26272.294567   \n",
       "2020-12-28  27389.112064  26207.639931  26280.821415  27084.807886   \n",
       "2020-12-29  27370.720084  25987.298075  27081.809729  27362.436557   \n",
       "2020-12-30  28937.740004  27360.089709  27360.089709  28840.953420   \n",
       "\n",
       "                  Volume         MA200        EMA130  PercentB20     RSI14  \\\n",
       "Date                                                                         \n",
       "2017-01-01  1.477750e+08    676.439377    726.854930    0.896990  0.859802   \n",
       "2017-01-02  2.221850e+08    677.716587    731.357145    0.913535  0.869408   \n",
       "2017-01-03  1.851680e+08    679.191241    736.127876    0.921943  0.875023   \n",
       "2017-01-04  3.449460e+08    681.183756    742.518748    1.098171  0.899147   \n",
       "2017-01-05  5.101990e+08    682.431751    746.654034    0.722185  0.645207   \n",
       "...                  ...           ...           ...         ...       ...   \n",
       "2020-12-26  4.833265e+10  12929.903141  15766.746562    0.976863  0.851761   \n",
       "2020-12-27  6.647990e+10  13011.914142  15927.136608    0.903582  0.833914   \n",
       "2020-12-28  4.905674e+10  13100.729275  16097.482734    0.919669  0.844247   \n",
       "2020-12-29  4.526595e+10  13190.137239  16269.466762    0.894310  0.845700   \n",
       "2020-12-30  5.128744e+10  13286.965619  16461.397856    0.955826  0.839918   \n",
       "\n",
       "               MFI14         MACD    fast_k    slow_d  Tommorow_Close  \\\n",
       "Date                                                                    \n",
       "2017-01-01  0.789506   -73.609344  0.977651  0.934168     1021.750000   \n",
       "2017-01-02  0.805343   -76.362399  0.959815  0.951889     1043.839966   \n",
       "2017-01-03  0.814751   -79.333322  0.999019  0.978828     1154.729980   \n",
       "2017-01-04  0.833259   -84.066016  0.985581  0.981472     1013.380005   \n",
       "2017-01-05  0.673515   -86.055164  0.459285  0.814628      902.200989   \n",
       "...              ...          ...       ...       ...             ...   \n",
       "2020-12-26  0.920118 -2997.597949  0.964799  0.962039    26272.294567   \n",
       "2020-12-27  0.927265 -3083.370200  0.782609  0.913536    27084.807886   \n",
       "2020-12-28  0.931462 -3177.755257  0.869255  0.872221    27362.436557   \n",
       "2020-12-29  0.934446 -3270.925280  0.896958  0.849607    28840.953420   \n",
       "2020-12-30  0.936562 -3383.930625  0.987435  0.917883    29001.719822   \n",
       "\n",
       "            Tommorow_IncRatio  Tommorow_Pos  \n",
       "Date                                         \n",
       "2017-01-01           1.023165           1.0  \n",
       "2017-01-02           1.021770           1.0  \n",
       "2017-01-03           1.105640           1.0  \n",
       "2017-01-04           0.876073           0.0  \n",
       "2017-01-05           0.889534           0.0  \n",
       "...                       ...           ...  \n",
       "2020-12-26           0.993681           0.0  \n",
       "2020-12-27           1.030592           1.0  \n",
       "2020-12-28           1.010362           1.0  \n",
       "2020-12-29           1.054125           1.0  \n",
       "2020-12-30           1.005553           1.0  \n",
       "\n",
       "[1460 rows x 16 columns]"
      ]
     },
     "execution_count": 9,
     "metadata": {},
     "output_type": "execute_result"
    }
   ],
   "source": [
    "Full_df"
   ]
  },
  {
   "cell_type": "code",
   "execution_count": 10,
   "metadata": {},
   "outputs": [
    {
     "name": "stdout",
     "output_type": "stream",
     "text": [
      "size of train set :  1095   |  size of test set :  365\n"
     ]
    }
   ],
   "source": [
    "cut_date = datetime.strptime('2019-12-31', '%Y-%m-%d').date()\n",
    "train_df = Full_df[start_date: cut_date]\n",
    "test_df = Full_df[(cut_date + timedelta(days=1)):eve_date]\n",
    "print(\"size of train set : \", len(train_df), \"  |  size of test set : \", len(test_df))                                          "
   ]
  },
  {
   "cell_type": "code",
   "execution_count": 11,
   "metadata": {},
   "outputs": [],
   "source": [
    "X_train = train_df.drop(['Tommorow_Close','Tommorow_IncRatio','Tommorow_Pos'],axis='columns')\n",
    "X_test = test_df.drop(['Tommorow_Close','Tommorow_IncRatio','Tommorow_Pos'],axis='columns')"
   ]
  },
  {
   "cell_type": "markdown",
   "metadata": {},
   "source": [
    "## Random forest (Regression)\n",
    "\n",
    "#### feature : o, h, l, c, Volume, MA200, EMA130, PercentB20, RSI14, MFI14, MACD, fast_k, slow_d \n",
    "#### target : tommorow_Close"
   ]
  },
  {
   "cell_type": "code",
   "execution_count": 12,
   "metadata": {},
   "outputs": [],
   "source": [
    "from sklearn.ensemble import RandomForestRegressor\n",
    "from sklearn.metrics import mean_absolute_error "
   ]
  },
  {
   "cell_type": "code",
   "execution_count": 13,
   "metadata": {},
   "outputs": [],
   "source": [
    "y_train = train_df.loc[:,'Tommorow_Close']\n",
    "y_test = test_df.loc[:,'Tommorow_Close']"
   ]
  },
  {
   "cell_type": "code",
   "execution_count": 14,
   "metadata": {},
   "outputs": [
    {
     "name": "stdout",
     "output_type": "stream",
     "text": [
      "mae loss of random forest with all feature, 200 tress, 40 depth :  768.45\n"
     ]
    }
   ],
   "source": [
    "# define random forest regressor\n",
    "rfc0 = RandomForestRegressor(n_estimators=200, max_depth= 40 , random_state=0)\n",
    "rfc0.fit(X_train,y_train)\n",
    "y_pred = rfc0.predict(X_test)\n",
    "mae_loss_rf0= mean_absolute_error(y_test, y_pred)\n",
    "print(\"mae loss of random forest with all feature, 200 tress, 40 depth :  %.2f\" % mae_loss_rf0)"
   ]
  },
  {
   "cell_type": "code",
   "execution_count": 15,
   "metadata": {},
   "outputs": [],
   "source": [
    "y_pred = pd.Series(y_pred)\n",
    "y_pred.index = y_test.index"
   ]
  },
  {
   "cell_type": "code",
   "execution_count": 16,
   "metadata": {},
   "outputs": [
    {
     "data": {
      "image/png": "[encoded data removed]",
      "text/plain": [
       "<Figure size 1080x360 with 1 Axes>"
      ]
     },
     "metadata": {
      "needs_background": "light"
     },
     "output_type": "display_data"
    }
   ],
   "source": [
    "plt.figure(figsize=(15, 5))\n",
    "plt.plot(y_test.index,y_test,'b', label=\"Actual Value\")\n",
    "plt.plot(y_pred.index, y_pred, 'g', label='Predicted Value')\n",
    "plt.ylabel('Close Value')\n",
    "plt.title(\"Tommorow Close Value Prediction\")\n",
    "\n",
    "plt.grid(True)\n",
    "plt.legend(loc='best')\n",
    "\n",
    "plt.show()\n"
   ]
  },
  {
   "cell_type": "markdown",
   "metadata": {},
   "source": [
    "#### target : tommorow_IncRatio"
   ]
  },
  {
   "cell_type": "code",
   "execution_count": 17,
   "metadata": {},
   "outputs": [],
   "source": [
    "y_train = train_df.loc[:,'Tommorow_IncRatio']\n",
    "y_test = test_df.loc[:,'Tommorow_IncRatio']"
   ]
  },
  {
   "cell_type": "code",
   "execution_count": 18,
   "metadata": {},
   "outputs": [
    {
     "name": "stdout",
     "output_type": "stream",
     "text": [
      "mae loss of random forest with all feature, 200 tress, 40 depth :  0.03\n"
     ]
    }
   ],
   "source": [
    "# define random forest regressor\n",
    "rfc1 = RandomForestRegressor(n_estimators=200, max_depth= 40 , random_state=0)\n",
    "rfc1.fit(X_train,y_train)\n",
    "y_pred = rfc1.predict(X_test)\n",
    "mae_loss_rf1= mean_absolute_error(y_test, y_pred)\n",
    "print(\"mae loss of random forest with all feature, 200 tress, 40 depth :  %.2f\" % mae_loss_rf1)"
   ]
  },
  {
   "cell_type": "code",
   "execution_count": 19,
   "metadata": {},
   "outputs": [],
   "source": [
    "y_pred = pd.Series(y_pred)\n",
    "y_pred.index = y_test.index"
   ]
  },
  {
   "cell_type": "code",
   "execution_count": 20,
   "metadata": {},
   "outputs": [
    {
     "data": {
      "image/png": "[encoded data removed]",
      "text/plain": [
       "<Figure size 1080x360 with 1 Axes>"
      ]
     },
     "metadata": {
      "needs_background": "light"
     },
     "output_type": "display_data"
    }
   ],
   "source": [
    "plt.figure(figsize=(15, 5))\n",
    "plt.plot(y_test.index,y_test,'b', label=\"Actual Ratio\")\n",
    "plt.plot(y_pred.index, y_pred, 'g', label='Predicted Ratio')\n",
    "plt.ylabel('Increasing Ratio')\n",
    "plt.title(\"Tommorow Increasing Ratio (Close/Open) Prediction\")\n",
    "\n",
    "plt.grid(True)\n",
    "plt.legend(loc='best')\n",
    "\n",
    "plt.show()"
   ]
  },
  {
   "cell_type": "markdown",
   "metadata": {},
   "source": [
    "## Random forest (Classification)\n",
    "feature : o, h, l, c, Volume, MA200, EMA130, PercentB20, RSI14, MFI14, MACD, fast_k, slow_d <p>\n",
    "target : tommorow_pos"
   ]
  },
  {
   "cell_type": "code",
   "execution_count": 21,
   "metadata": {},
   "outputs": [],
   "source": [
    "from sklearn.ensemble import RandomForestClassifier\n",
    "from sklearn.metrics import accuracy_score"
   ]
  },
  {
   "cell_type": "code",
   "execution_count": 22,
   "metadata": {},
   "outputs": [],
   "source": [
    "y_train = train_df.loc[:,'Tommorow_Pos']\n",
    "y_test = test_df.loc[:,'Tommorow_Pos']"
   ]
  },
  {
   "cell_type": "code",
   "execution_count": 23,
   "metadata": {},
   "outputs": [
    {
     "name": "stdout",
     "output_type": "stream",
     "text": [
      "accuracy of random forest with all feature, 200 tress, 40 depth :  0.47\n"
     ]
    }
   ],
   "source": [
    "# define random forest regressor\n",
    "rfc2 = RandomForestClassifier(n_estimators=200, max_depth= 40 , random_state=0)\n",
    "rfc2.fit(X_train,y_train)\n",
    "y_pred = rfc2.predict(X_test)\n",
    "accuracy_rf2= accuracy_score(y_test, y_pred)\n",
    "print(\"accuracy of random forest with all feature, 200 tress, 40 depth :  %.2f\" % accuracy_rf2)"
   ]
  },
  {
   "cell_type": "code",
   "execution_count": 24,
   "metadata": {},
   "outputs": [],
   "source": [
    "y_pred = pd.Series(y_pred)\n",
    "y_pred.index = y_test.index"
   ]
  },
  {
   "cell_type": "code",
   "execution_count": 26,
   "metadata": {},
   "outputs": [
    {
     "data": {
      "text/plain": [
       "array([[121,  37],\n",
       "       [155,  52]], dtype=int64)"
      ]
     },
     "execution_count": 26,
     "metadata": {},
     "output_type": "execute_result"
    }
   ],
   "source": [
    "from sklearn.metrics import confusion_matrix\n",
    "\n",
    "confusion_matrix(y_test, y_pred)"
   ]
  },
  {
   "cell_type": "code",
   "execution_count": 25,
   "metadata": {},
   "outputs": [
    {
     "data": {
      "image/png": "[encoded data removed]",
      "text/plain": [
       "<Figure size 1080x360 with 1 Axes>"
      ]
     },
     "metadata": {
      "needs_background": "light"
     },
     "output_type": "display_data"
    }
   ],
   "source": [
    "y_error = y_pred - y_test \n",
    "plt.figure(figsize=(15, 5))\n",
    "plt.plot(y_error.index,y_error ,'bo', label=\"1 : FP, 0 : TPorFN, -1:TN\")\n",
    "# FP = False(actual)-Positive(pred), TP=True-Postive, FN=False-Negative, TN=True-Negative\n",
    "plt.ylabel('Increasing Ration')\n",
    "plt.title(\"Tommorow Positive (Close-Open>0) Prediction\")\n",
    "\n",
    "plt.grid(True)\n",
    "plt.legend(loc='best')\n",
    "\n",
    "plt.show()"
   ]
  }
 ],
 "metadata": {
  "kernelspec": {
   "display_name": "Python 3",
   "language": "python",
   "name": "python3"
  },
  "language_info": {
   "codemirror_mode": {
    "name": "ipython",
    "version": 3
   },
   "file_extension": ".py",
   "mimetype": "text/x-python",
   "name": "python",
   "nbconvert_exporter": "python",
   "pygments_lexer": "ipython3",
   "version": "3.8.7"
  }
 },
 "nbformat": 4,
 "nbformat_minor": 2
}
