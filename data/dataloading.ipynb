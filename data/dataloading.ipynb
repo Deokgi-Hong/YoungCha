{
 "cells": [
  {
   "cell_type": "code",
   "execution_count": null,
   "metadata": {},
   "outputs": [],
   "source": [
    "import ccxt\n",
    "from datetime import datetime\n",
    "import pandas as pd\n",
    "\n",
    "a=-1\n",
    "i=0\n",
    "ohlcvs_tot=[]\n",
    "\n",
    "while i!=a:\n",
    "    binance=ccxt.binance()\n",
    "    ohlcvs=binance.fetch_ohlcv('BTC/USDT','30m',i,1000)\n",
    "    a=i\n",
    "    i=ohlcvs[-1][0]\n",
    "    for ohlc in ohlcvs:\n",
    "        ohlc[0]=datetime.fromtimestamp(ohlc[0]/1000).strftime('%Y-%m-%d %H:%M:%S')\n",
    "    ohlcvs_tot.extend(ohlcvs)\n",
    "    \n",
    " \n",
    "df=pd.DataFrame(ohlcvs_tot)\n",
    "df.to_csv(\"btc_usdt_1d.csv\", header=False, index=False)"
   ]
  }
 ],
 "metadata": {
  "kernelspec": {
   "display_name": "Python 3",
   "language": "python",
   "name": "python3"
  },
  "language_info": {
   "codemirror_mode": {
    "name": "ipython",
    "version": 3
   },
   "file_extension": ".py",
   "mimetype": "text/x-python",
   "name": "python",
   "nbconvert_exporter": "python",
   "pygments_lexer": "ipython3",
   "version": "3.8.5"
  }
 },
 "nbformat": 4,
 "nbformat_minor": 4
}
